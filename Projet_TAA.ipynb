{
 "cells": [
  {
   "cell_type": "markdown",
   "metadata": {},
   "source": [
    "Team members: \n",
    "* Fatou SALL\n",
    "* Sebastion COUBE\n",
    "\n",
    "\n",
    "La structure du graphique contient-elle des informations sur le contenu des nœuds? Nous aimerions savoir s'il est possible de détecter des communautés de pages simplement en regardant les liens hypertexte et de faire correspondre ces communautés avec des données du monde réel telles que les catégories de pages. Le regroupement spectral est-il une possibilité viable par rapport à une méthode éprouvée de détection communautaire?\n"
   ]
  },
  {
   "cell_type": "code",
   "execution_count": 156,
   "metadata": {},
   "outputs": [
    {
     "data": {
      "text/html": [
       "<div id=\"my_id_menu_nb\">run previous cell, wait for 2 seconds</div>\n",
       "<script>\n",
       "function repeat_indent_string(n){\n",
       "    var a = \"\" ;\n",
       "    for ( ; n > 0 ; --n)\n",
       "        a += \"    \";\n",
       "    return a;\n",
       "}\n",
       "// look up into all sections and builds an automated menu //\n",
       "var update_menu_string = function(begin, lfirst, llast, sformat, send, keep_item, begin_format, end_format) {\n",
       "    var anchors = document.getElementsByClassName(\"section\");\n",
       "    if (anchors.length == 0) {\n",
       "        anchors = document.getElementsByClassName(\"text_cell_render rendered_html\");\n",
       "    }\n",
       "    var i,t;\n",
       "    var text_menu = begin;\n",
       "    var text_memo = \"<pre>\\nlength:\" + anchors.length + \"\\n\";\n",
       "    var ind = \"\";\n",
       "    var memo_level = 1;\n",
       "    var href;\n",
       "    var tags = [];\n",
       "    var main_item = 0;\n",
       "    var format_open = 0;\n",
       "    for (i = 0; i <= llast; i++)\n",
       "        tags.push(\"h\" + i);\n",
       "\n",
       "    for (i = 0; i < anchors.length; i++) {\n",
       "        text_memo += \"**\" + anchors[i].id + \"--\\n\";\n",
       "\n",
       "        var child = null;\n",
       "        for(t = 0; t < tags.length; t++) {\n",
       "            var r = anchors[i].getElementsByTagName(tags[t]);\n",
       "            if (r.length > 0) {\n",
       "child = r[0];\n",
       "break;\n",
       "            }\n",
       "        }\n",
       "        if (child == null) {\n",
       "            text_memo += \"null\\n\";\n",
       "            continue;\n",
       "        }\n",
       "        if (anchors[i].hasAttribute(\"id\")) {\n",
       "            // when converted in RST\n",
       "            href = anchors[i].id;\n",
       "            text_memo += \"#1-\" + href;\n",
       "            // passer à child suivant (le chercher)\n",
       "        }\n",
       "        else if (child.hasAttribute(\"id\")) {\n",
       "            // in a notebook\n",
       "            href = child.id;\n",
       "            text_memo += \"#2-\" + href;\n",
       "        }\n",
       "        else {\n",
       "            text_memo += \"#3-\" + \"*\" + \"\\n\";\n",
       "            continue;\n",
       "        }\n",
       "        var title = child.textContent;\n",
       "        var level = parseInt(child.tagName.substring(1,2));\n",
       "\n",
       "        text_memo += \"--\" + level + \"?\" + lfirst + \"--\" + title + \"\\n\";\n",
       "\n",
       "        if ((level < lfirst) || (level > llast)) {\n",
       "            continue ;\n",
       "        }\n",
       "        if (title.endsWith('¶')) {\n",
       "            title = title.substring(0,title.length-1).replace(\"<\", \"&lt;\")\n",
       "         .replace(\">\", \"&gt;\").replace(\"&\", \"&amp;\");\n",
       "        }\n",
       "        if (title.length == 0) {\n",
       "            continue;\n",
       "        }\n",
       "\n",
       "        while (level < memo_level) {\n",
       "            text_menu += end_format + \"</ul>\\n\";\n",
       "            format_open -= 1;\n",
       "            memo_level -= 1;\n",
       "        }\n",
       "        if (level == lfirst) {\n",
       "            main_item += 1;\n",
       "        }\n",
       "        if (keep_item != -1 && main_item != keep_item + 1) {\n",
       "            // alert(main_item + \" - \" + level + \" - \" + keep_item);\n",
       "            continue;\n",
       "        }\n",
       "        while (level > memo_level) {\n",
       "            text_menu += \"<ul>\\n\";\n",
       "            memo_level += 1;\n",
       "        }\n",
       "        text_menu += repeat_indent_string(level-2);\n",
       "        text_menu += begin_format + sformat.replace(\"__HREF__\", href).replace(\"__TITLE__\", title);\n",
       "        format_open += 1;\n",
       "    }\n",
       "    while (1 < memo_level) {\n",
       "        text_menu += end_format + \"</ul>\\n\";\n",
       "        memo_level -= 1;\n",
       "        format_open -= 1;\n",
       "    }\n",
       "    text_menu += send;\n",
       "    //text_menu += \"\\n\" + text_memo;\n",
       "\n",
       "    while (format_open > 0) {\n",
       "        text_menu += end_format;\n",
       "        format_open -= 1;\n",
       "    }\n",
       "    return text_menu;\n",
       "};\n",
       "var update_menu = function() {\n",
       "    var sbegin = \"\";\n",
       "    var sformat = '<a href=\"#__HREF__\">__TITLE__</a>';\n",
       "    var send = \"\";\n",
       "    var begin_format = '<li>';\n",
       "    var end_format = '</li>';\n",
       "    var keep_item = -1;\n",
       "    var text_menu = update_menu_string(sbegin, 2, 4, sformat, send, keep_item,\n",
       "       begin_format, end_format);\n",
       "    var menu = document.getElementById(\"my_id_menu_nb\");\n",
       "    menu.innerHTML=text_menu;\n",
       "};\n",
       "window.setTimeout(update_menu,2000);\n",
       "            </script>"
      ],
      "text/plain": [
       "<IPython.core.display.HTML object>"
      ]
     },
     "execution_count": 156,
     "metadata": {},
     "output_type": "execute_result"
    }
   ],
   "source": [
    "from jyquickhelper import add_notebook_menu\n",
    "add_notebook_menu()"
   ]
  },
  {
   "cell_type": "markdown",
   "metadata": {},
   "source": [
    "## Introduction"
   ]
  },
  {
   "cell_type": "code",
   "execution_count": 139,
   "metadata": {},
   "outputs": [],
   "source": [
    "import pandas as pd\n",
    "import random\n",
    "import math\n",
    "import numpy as np\n",
    "import matplotlib.pyplot as plt\n",
    "from matplotlib import style\n",
    "from sklearn.neighbors import kneighbors_graph\n",
    "from scipy.sparse import lil_matrix\n",
    "import seaborn as sns\n",
    "import networkx as nx\n",
    "import operator\n",
    "import community\n",
    "import plotly\n",
    "import plotly.graph_objs as go\n",
    "import plotly.plotly as py\n",
    "\n",
    "from networkx.drawing.nx_agraph import graphviz_layout\n",
    "from scipy import linalg, cluster, sparse\n",
    "from tqdm import tqdm_notebook\n",
    "from utils import get_bag_of_communities\n",
    "\n",
    "from utils import load_obj, save_obj"
   ]
  },
  {
   "cell_type": "markdown",
   "metadata": {},
   "source": [
    "## Algorithme"
   ]
  },
  {
   "cell_type": "markdown",
   "metadata": {},
   "source": [
    "### Etape 1  : Calcul du laplacien"
   ]
  },
  {
   "cell_type": "code",
   "execution_count": 100,
   "metadata": {},
   "outputs": [],
   "source": [
    "def diag_matrice_degre(w):\n",
    "    print(\"0-Calcul de la matrice dégré d .....................\\n \")\n",
    "    \n",
    "    return np.diag(np.sum(w,axis=1))\n",
    "\n",
    "\n",
    "def laplacien(w):\n",
    "    print(\"1-Calcul du laplacien .....................\\n \")\n",
    "    return diag_matrice_degre(w)-w   "
   ]
  },
  {
   "cell_type": "markdown",
   "metadata": {},
   "source": [
    "### Etape 2 : Calcul des k vecteurs associés aux k plus petites valeurs propres du laplacien"
   ]
  },
  {
   "cell_type": "code",
   "execution_count": 101,
   "metadata": {},
   "outputs": [],
   "source": [
    "def k_vector_propre(L,k): \n",
    "    print(\"2-Calcul des {} vecteurs associés aux {} plus petites valeurs propres du laplacien .....................\\n \".format(k,k))\n",
    "    eigenvalues, eigenvectors = np.linalg.eig(L)\n",
    "    sorted_index = np.argsort(eigenvalues)\n",
    "    eigenvectors=np.array(eigenvectors)\n",
    "    plt.plot(eigenvalues, '.-', markersize=15)\n",
    "    plt.imshow\n",
    "    return eigenvectors[:,sorted_index[0:k]]\n",
    "    \n"
   ]
  },
  {
   "cell_type": "markdown",
   "metadata": {},
   "source": [
    "### Etape 3  : Partitionnement des vecteurs propres en avec kmeans"
   ]
  },
  {
   "cell_type": "code",
   "execution_count": 123,
   "metadata": {},
   "outputs": [],
   "source": [
    "def spectralClustering(w,k):\n",
    "    print(\"3-Partitionnement des vecteurs propres en avec kmeans .....................\\n \")\n",
    "    L=laplacien(w)\n",
    "    Y=k_vector_propre(L,k) \n",
    "    return Kmeans(Y,2)\n",
    "def initialize(X,K):\n",
    "    print('Initialisation .....................\\n ')\n",
    "    centers = X[random.sample(range(0,(X.shape[0]-1)),K)]\n",
    "    return centers\n",
    "\n",
    "def assignment(X, centers):\n",
    "    indx = []\n",
    "    for point in X:\n",
    "        norm = np.linalg.norm((centers-point), axis =1)\n",
    "        indx.append(np.argmin(norm))\n",
    "    return indx\n",
    "\n",
    "def updateCenters(X,K,indx):\n",
    "\n",
    "    newCenters = []\n",
    "    for clusterNumber in range(0,K):\n",
    "        Cluster = X[[i for i, find in enumerate(indx) if find == clusterNumber]]\n",
    "        centroid = Cluster.mean(axis=0)\n",
    "        newCenters.append(centroid)\n",
    "    return newCenters\n",
    "\n",
    "def AvgScore(X,K,indx,centers):\n",
    "    score = []\n",
    "    for clusterNumber in range(0,K):\n",
    "        Cluster = X[[i for i, find in enumerate(indx) if find == clusterNumber]]\n",
    "        distanceList = np.linalg.norm((Cluster-centers[clusterNumber]), axis =1)\n",
    "        score.append(np.mean(distanceList))\n",
    "            \n",
    "    return score\n",
    "\n",
    "\n",
    "\n",
    "def Kmeans(X,K,tol=0.0001,plot=False,stat=False):\n",
    "    X = np.array(X)\n",
    "    centers = initialize(X,K)\n",
    "    indx = assignment(X, centers)\n",
    "    AvgScore(X,K,indx,centers)\n",
    "    Distortion = 1\n",
    "    print('Mis à jours des clusters .....................\\n ')\n",
    "    while Distortion > tol:\n",
    "        newCenters = updateCenters(X,K,indx)\n",
    "        newIndx = assignment(X, newCenters)\n",
    "        \n",
    "        scoreOld = AvgScore(X,K,indx,centers)\n",
    "        scoreNew = AvgScore(X,K,newIndx,newCenters)\n",
    "        \n",
    "        Distortion = np.linalg.norm((np.array(scoreOld) - np.array(scoreNew)), axis =0)\n",
    "        centers = newCenters\n",
    "        indx = newIndx\n",
    "        if stat:\n",
    "            print('Score Old:',scoreOld,'\\n')\n",
    "            print('Score new:',scoreNew,'\\n')\n",
    "            print('Distortion:', Distortion)\n",
    "            print('---------------------')\n",
    "        \n",
    "    if plot:\n",
    "        DisplayPlot(X,K,centers,indx)\n",
    "        \n",
    "    return centers, indx, scoreNew"
   ]
  },
  {
   "cell_type": "code",
   "execution_count": 92,
   "metadata": {},
   "outputs": [],
   "source": [
    "def DisplayPlot(X,K,centers,indx):\n",
    "    colors = ['green', 'purple', 'yellow', 'red', 'orange', 'plum', 'navy', 'seagreen', 'pink', 'brown']\n",
    "    for clusterNumber in range(0,K):\n",
    "        Cluster = X[[i for i, find in enumerate(indx) if find == clusterNumber]]\n",
    "        plt.scatter(Cluster[:,0],Cluster[:,1], marker='.' ,color=colors[clusterNumber])\n",
    "        plt.scatter(np.array(centers)[clusterNumber,0],np.array(centers)[clusterNumber,1], marker='+' ,color='black')    \n",
    "    plt.show()"
   ]
  },
  {
   "cell_type": "markdown",
   "metadata": {},
   "source": [
    "## Application:"
   ]
  },
  {
   "cell_type": "markdown",
   "metadata": {},
   "source": [
    "### Données simulées"
   ]
  },
  {
   "cell_type": "code",
   "execution_count": 108,
   "metadata": {},
   "outputs": [],
   "source": [
    "\n",
    "from sklearn import cluster, datasets\n",
    "noisy_moons = datasets.make_moons(n_samples=1000, noise=.05)\n",
    "df = pd.DataFrame(noisy_moons[0]) ## convert to DF\n",
    "\n"
   ]
  },
  {
   "cell_type": "markdown",
   "metadata": {},
   "source": [
    "#### Génération d'une matrice poids adjacente"
   ]
  },
  {
   "cell_type": "code",
   "execution_count": 109,
   "metadata": {},
   "outputs": [],
   "source": [
    "def matrice_adjacente(X,gamma):\n",
    "    n=X.shape[0]\n",
    "    a=np.zeros([n,n])\n",
    "    for i in range(n):\n",
    "        for j in range(n):\n",
    "            a[i,j] = math.exp(-math.pow(np.linalg.norm((X[i]-X[j]),2),2) * gamma)\n",
    "    return a\n",
    "def construct_W(X, Wtemp, k_neighbors):\n",
    "    scores_matrix = lil_matrix(Wtemp)\n",
    "    # knn_matrix is a sparse matrix\n",
    "    knn_matrix = kneighbors_graph(X, k_neighbors, mode='connectivity', include_self=True)\n",
    "    W = knn_matrix.multiply(scores_matrix)  # pointwise multiply\n",
    "    return W.toarray()"
   ]
  },
  {
   "cell_type": "markdown",
   "metadata": {},
   "source": [
    "#### Visualisation des données"
   ]
  },
  {
   "cell_type": "code",
   "execution_count": 59,
   "metadata": {},
   "outputs": [
    {
     "data": {
      "image/png": "[encoded data removed]",
      "text/plain": [
       "<matplotlib.figure.Figure at 0x1fb0144a748>"
      ]
     },
     "metadata": {},
     "output_type": "display_data"
    }
   ],
   "source": [
    "\n",
    "\n",
    "import matplotlib.pyplot as plt\n",
    "plt.scatter(df[0],df[1])\n",
    "plt.show()"
   ]
  },
  {
   "cell_type": "markdown",
   "metadata": {},
   "source": [
    " #### Détection de communauté:"
   ]
  },
  {
   "cell_type": "code",
   "execution_count": 118,
   "metadata": {
    "scrolled": true
   },
   "outputs": [
    {
     "name": "stdout",
     "output_type": "stream",
     "text": [
      "Partitionnement des vecteurs propres en avec kmeans \n",
      " \n",
      "Calcul du laplacien \n",
      " \n",
      "Matrice d \n",
      " \n",
      "Calcul des 2 vecteurs associés aux k plus petites valeurs propres du laplacien  \n",
      " \n"
     ]
    },
    {
     "name": "stderr",
     "output_type": "stream",
     "text": [
      "C:\\Anacond\\lib\\site-packages\\numpy\\core\\numeric.py:492: ComplexWarning:\n",
      "\n",
      "Casting complex values to real discards the imaginary part\n",
      "\n"
     ]
    },
    {
     "name": "stdout",
     "output_type": "stream",
     "text": [
      "Initialisation .....................\n",
      " \n",
      "Mis à jours des clusters .....................\n",
      " \n"
     ]
    },
    {
     "name": "stderr",
     "output_type": "stream",
     "text": [
      "C:\\Anacond\\lib\\site-packages\\numpy\\core\\numeric.py:544: ComplexWarning:\n",
      "\n",
      "Casting complex values to real discards the imaginary part\n",
      "\n"
     ]
    },
    {
     "data": {
      "image/png": "[encoded data removed]",
      "text/plain": [
       "<matplotlib.figure.Figure at 0x1fb14135940>"
      ]
     },
     "metadata": {},
     "output_type": "display_data"
    }
   ],
   "source": [
    "X = np.array(df)\n",
    "A = adj_generate(X,1)\n",
    "w = construct_W(X,A,20)\n",
    "centers, indx, score = spectralClustering(w,2)\n"
   ]
  },
  {
   "cell_type": "markdown",
   "metadata": {},
   "source": [
    "#### Visualition des communautés trouvées"
   ]
  },
  {
   "cell_type": "code",
   "execution_count": 119,
   "metadata": {},
   "outputs": [
    {
     "name": "stderr",
     "output_type": "stream",
     "text": [
      "C:\\Anacond\\lib\\site-packages\\numpy\\core\\numeric.py:544: ComplexWarning:\n",
      "\n",
      "Casting complex values to real discards the imaginary part\n",
      "\n"
     ]
    },
    {
     "data": {
      "image/png": "[encoded data removed]",
      "text/plain": [
       "<matplotlib.figure.Figure at 0x1fb04d2f940>"
      ]
     },
     "metadata": {},
     "output_type": "display_data"
    }
   ],
   "source": [
    "DisplayPlot(np.array(df),2,centers,indx)"
   ]
  },
  {
   "cell_type": "markdown",
   "metadata": {},
   "source": [
    "### Application sur les données de Wikipedia"
   ]
  },
  {
   "cell_type": "markdown",
   "metadata": {},
   "source": [
    "#### Parsing des données"
   ]
  },
  {
   "cell_type": "code",
   "execution_count": 6,
   "metadata": {},
   "outputs": [],
   "source": [
    "from utils import explore_page"
   ]
  },
  {
   "cell_type": "code",
   "execution_count": 19,
   "metadata": {
    "scrolled": true
   },
   "outputs": [
    {
     "name": "stderr",
     "output_type": "stream",
     "text": [
      "C:\\Anacond\\lib\\site-packages\\bs4\\__init__.py:181: UserWarning:\n",
      "\n",
      "No parser was explicitly specified, so I'm using the best available HTML parser for this system (\"lxml\"). This usually isn't a problem, but if you run this code on another system, or in a different virtual environment, it may use a different parser and behave differently.\n",
      "\n",
      "The code that caused this warning is on line 193 of the file C:\\Anacond\\lib\\runpy.py. To get rid of this warning, change code that looks like this:\n",
      "\n",
      " BeautifulSoup(YOUR_MARKUP})\n",
      "\n",
      "to this:\n",
      "\n",
      " BeautifulSoup(YOUR_MARKUP, \"lxml\")\n",
      "\n",
      "\n"
     ]
    },
    {
     "name": "stdout",
     "output_type": "stream",
     "text": [
      "Disambiguation of : Jaguar (disambiguation)\n",
      "Disambiguation of : Banzai!\n",
      "Disambiguation of : Jaguares (disambiguation)\n",
      "Disambiguation of : JAGS (disambiguation)\n",
      "Disambiguation of : JAG (disambiguation)\n"
     ]
    }
   ],
   "source": [
    "root_node = 'Jaguar (disambiguation)'\n",
    "\n",
    "network = {}  # This dict stores for each page a dictionnary containing the keys [url, links, categories]\n",
    "first_nodes = []\n",
    "\n",
    "explore_page(root_node, network, first_nodes)\n",
    "\n",
    "second_nodes = []\n",
    "for node in first_nodes:\n",
    "    explore_page(node, network, second_nodes)"
   ]
  },
  {
   "cell_type": "code",
   "execution_count": 24,
   "metadata": {},
   "outputs": [
    {
     "name": "stdout",
     "output_type": "stream",
     "text": [
      "\n"
     ]
    }
   ],
   "source": [
    "all_nodes = list(network.keys()) + second_nodes\n",
    "for link in tqdm_notebook(second_nodes):\n",
    "    explore_page(link, network, [], inner=True, all_nodes=all_nodes)"
   ]
  },
  {
   "cell_type": "code",
   "execution_count": null,
   "metadata": {},
   "outputs": [],
   "source": [
    "all_nodes = list(network.keys())\n",
    "for title in tqdm_notebook(network.keys()):\n",
    "    network[title]['links'] = list(set(network[title]['links']).intersection(set(all_nodes)))"
   ]
  },
  {
   "cell_type": "code",
   "execution_count": null,
   "metadata": {},
   "outputs": [],
   "source": [
    "\n",
    "\n",
    "l = list(network.keys())\n",
    "for i in l:\n",
    "    if len(network[i]['links']) == 0:\n",
    "        del network[i]\n",
    "\n"
   ]
  },
  {
   "cell_type": "code",
   "execution_count": null,
   "metadata": {},
   "outputs": [],
   "source": [
    "for i, title in enumerate(network.keys()):\n",
    "    cats = network[title]['categories']\n",
    "    new_cats = []\n",
    "    for c in cats:\n",
    "        if not c.startswith('Redundant') and not c.startswith('Pages') and not c.startswith('Webarchive') and not c.startswith('Wikipedia') and not c.startswith('Articles') and not c.startswith('Coordinates on Wikidata') and not 'Wikidata' in c and not c.startswith('CS1') and not c.startswith('EngvarB') and not c.startswith('All') and not c.startswith('Good articles') and not c.startswith('Use dmy'):\n",
    "            new_cats.append(c)\n",
    "    network[title]['categories'] = new_cats"
   ]
  },
  {
   "cell_type": "markdown",
   "metadata": {},
   "source": [
    "#### Création des graphes"
   ]
  },
  {
   "cell_type": "code",
   "execution_count": 7,
   "metadata": {},
   "outputs": [],
   "source": [
    "# save_obj(network, 'network')\n",
    "network = load_obj('network')"
   ]
  },
  {
   "cell_type": "code",
   "execution_count": 8,
   "metadata": {},
   "outputs": [],
   "source": [
    "neighbors = {}\n",
    "for i in network.keys():\n",
    "    neighbors[i] = network[i]['links']"
   ]
  },
  {
   "cell_type": "code",
   "execution_count": 9,
   "metadata": {},
   "outputs": [],
   "source": [
    "g = nx.Graph(neighbors)  # undirected graph"
   ]
  },
  {
   "cell_type": "code",
   "execution_count": 28,
   "metadata": {},
   "outputs": [
    {
     "name": "stdout",
     "output_type": "stream",
     "text": [
      "Total number of nodes : 6830\n",
      "Total number of edges : 367483\n",
      "The graph is connected.\n"
     ]
    }
   ],
   "source": [
    "print('Total number of nodes : {}'.format(len(g.nodes)))\n",
    "print('Total number of edges : {}'.format(len(g.edges)))\n",
    "if nx.is_connected(g):\n",
    "    print('The graph is connected.')\n",
    "else:\n",
    "    print('The graph is not connected.')"
   ]
  },
  {
   "cell_type": "code",
   "execution_count": 25,
   "metadata": {},
   "outputs": [
    {
     "data": {
      "text/plain": [
       "(6830, 6830)"
      ]
     },
     "execution_count": 25,
     "metadata": {},
     "output_type": "execute_result"
    }
   ],
   "source": [
    "w = nx.adjacency_matrix(g)\n",
    "w.shape"
   ]
  },
  {
   "cell_type": "code",
   "execution_count": null,
   "metadata": {},
   "outputs": [],
   "source": [
    "def matrice_adjacente(X):\n",
    "    return nx.adjacency_matrix(X)"
   ]
  },
  {
   "cell_type": "code",
   "execution_count": 30,
   "metadata": {},
   "outputs": [
    {
     "data": {
      "text/plain": [
       "<matplotlib.image.AxesImage at 0x21b0ce4b978>"
      ]
     },
     "execution_count": 30,
     "metadata": {},
     "output_type": "execute_result"
    },
    {
     "data": {
      "image/png": "[encoded data removed]",
      "text/plain": [
       "<matplotlib.figure.Figure at 0x21b04e6dda0>"
      ]
     },
     "metadata": {},
     "output_type": "display_data"
    }
   ],
   "source": [
    "\n",
    "plt.spy(adj.todense())\n"
   ]
  },
  {
   "cell_type": "code",
   "execution_count": 31,
   "metadata": {},
   "outputs": [
    {
     "data": {
      "text/plain": [
       "True"
      ]
     },
     "execution_count": 31,
     "metadata": {},
     "output_type": "execute_result"
    }
   ],
   "source": [
    "\n",
    "\n",
    "(adj != adj.T).count_nonzero() == 0\n",
    "\n"
   ]
  },
  {
   "cell_type": "code",
   "execution_count": null,
   "metadata": {},
   "outputs": [],
   "source": [
    "#nx.draw(g, node_size=5, figsize=(15, 15))"
   ]
  },
  {
   "cell_type": "markdown",
   "metadata": {},
   "source": [
    "#### Détection des communautés"
   ]
  },
  {
   "cell_type": "code",
   "execution_count": 126,
   "metadata": {},
   "outputs": [
    {
     "name": "stdout",
     "output_type": "stream",
     "text": [
      "Partitionnement des vecteurs propres en avec kmeans \n",
      " \n",
      "Calcul du laplacien \n",
      " \n",
      "Matrice d \n",
      " \n",
      "Calcul des 2 vecteurs associés aux k plus petites valeurs propres du laplacien  \n",
      " \n"
     ]
    },
    {
     "name": "stderr",
     "output_type": "stream",
     "text": [
      "C:\\Anacond\\lib\\site-packages\\numpy\\core\\numeric.py:492: ComplexWarning:\n",
      "\n",
      "Casting complex values to real discards the imaginary part\n",
      "\n"
     ]
    },
    {
     "name": "stdout",
     "output_type": "stream",
     "text": [
      "Initialisation .....................\n",
      " \n",
      "Mis à jours des clusters .....................\n",
      " \n"
     ]
    },
    {
     "data": {
      "image/png": "[encoded data removed]",
      "text/plain": [
       "<matplotlib.figure.Figure at 0x1fb027bb978>"
      ]
     },
     "metadata": {},
     "output_type": "display_data"
    }
   ],
   "source": [
    "k=2\n",
    "w = nx.adjacency_matrix(g)\n",
    "centroid , labels, score = spectralClustering(w,k)\n"
   ]
  },
  {
   "cell_type": "code",
   "execution_count": 128,
   "metadata": {},
   "outputs": [],
   "source": [
    "spectral_partition = {}\n",
    "for i, title in enumerate(network.keys()):\n",
    "    spectral_partition[title] = labels[i]"
   ]
  },
  {
   "cell_type": "code",
   "execution_count": 132,
   "metadata": {},
   "outputs": [],
   "source": [
    "spectral_bag = get_bag_of_communities(network, spectral_partition)"
   ]
  },
  {
   "cell_type": "code",
   "execution_count": 134,
   "metadata": {},
   "outputs": [],
   "source": [
    "\n",
    "spectral_counts = [0 for _ in range(k)]\n",
    "for i, title in enumerate(spectral_partition.keys()):\n",
    "    spectral_counts[spectral_partition[title]] += 1\n",
    "\n"
   ]
  },
  {
   "cell_type": "code",
   "execution_count": 137,
   "metadata": {},
   "outputs": [
    {
     "name": "stdout",
     "output_type": "stream",
     "text": [
      " \n",
      "Community 1/2 (392 pages) : \n",
      "('IUCN Red List least concern species', 165)\n",
      "('Carnivora stubs', 56)\n",
      "('IUCN Red List vulnerable species', 41)\n",
      "('Mammal genera', 36)\n",
      "('Mammals of the United States', 36)\n",
      "('Carnivorans of Africa', 35)\n",
      "('Mammals of Asia', 34)\n",
      "('Carnivorans of Malaysia', 34)\n",
      "('Mammals described in 1758', 33)\n",
      "('Carnivorans of South America', 32)\n",
      " \n",
      "Community 2/2 (6438 pages) : \n",
      "('Formula One constructors', 139)\n",
      "('Formula One entrants', 129)\n",
      "('Ship infoboxes without an image', 118)\n",
      "('Jacksonville Jaguars players', 116)\n",
      "('Best Original Song Academy Award-winning songwriters', 114)\n",
      "('Character pop', 110)\n",
      "('Single-engined tractor aircraft', 102)\n",
      "('Grammy Award winners', 95)\n",
      "('Carrier-based aircraft', 92)\n",
      "('Jacksonville Jaguars currentteam parameter articles', 86)\n"
     ]
    }
   ],
   "source": [
    "for i in range(k):\n",
    "    sorted_bag = sorted(spectral_bag[i].items(), key=operator.itemgetter(1), reverse=True)\n",
    "    print(' ')\n",
    "    print('Community {}/{} ({} pages) : '.format(i+1, k, spectral_counts[i]))\n",
    "    if spectral_counts[i] > 0:\n",
    "        for ind in range(10):\n",
    "            print(sorted_bag[ind])"
   ]
  },
  {
   "cell_type": "markdown",
   "metadata": {},
   "source": [
    "#### Validation croisée pour le k optimal"
   ]
  },
  {
   "cell_type": "code",
   "execution_count": null,
   "metadata": {},
   "outputs": [
    {
     "data": {
      "application/vnd.jupyter.widget-view+json": {
       "model_id": "658417f203874290b96afd2a163bdce3",
       "version_major": 2,
       "version_minor": 0
      },
      "text/html": [
       "<p>Failed to display Jupyter Widget of type <code>HBox</code>.</p>\n",
       "<p>\n",
       "  If you're reading this message in the Jupyter Notebook or JupyterLab Notebook, it may mean\n",
       "  that the widgets JavaScript is still loading. If this message persists, it\n",
       "  likely means that the widgets JavaScript library is either not installed or\n",
       "  not enabled. See the <a href=\"https://ipywidgets.readthedocs.io/en/stable/user_install.html\">Jupyter\n",
       "  Widgets Documentation</a> for setup instructions.\n",
       "</p>\n",
       "<p>\n",
       "  If you're reading this message in another frontend (for example, a static\n",
       "  rendering on GitHub or <a href=\"https://nbviewer.jupyter.org/\">NBViewer</a>),\n",
       "  it may mean that your frontend doesn't currently support widgets.\n",
       "</p>\n"
      ],
      "text/plain": [
       "HBox(children=(IntProgress(value=0, max=20), HTML(value='')))"
      ]
     },
     "metadata": {},
     "output_type": "display_data"
    },
    {
     "name": "stdout",
     "output_type": "stream",
     "text": [
      "Partitionnement des vecteurs propres en avec kmeans \n",
      " \n",
      "Calcul du laplacien \n",
      " \n",
      "Matrice d \n",
      " \n",
      "Calcul des 2 vecteurs associés aux k plus petites valeurs propres du laplacien  \n",
      " \n"
     ]
    }
   ],
   "source": [
    "cross_val = {}\n",
    "for k in tqdm_notebook(range(10, 30)):\n",
    "    tmp = []\n",
    "    for _ in range(5):\n",
    "        centroid , labels, score = spectralClustering(w,2)\n",
    "        spectral_partition = {}\n",
    "        for i, title in enumerate(network.keys()):\n",
    "            spectral_partition[title] = labels[i]\n",
    "        spectral_modularity = community.modularity(spectral_partition, g)\n",
    "        tmp.append(spectral_modularity)\n",
    "    cross_val[k] = [np.mean(tmp), np.std(tmp)]\n",
    "    \n",
    "save_obj(d, 'cross_val')"
   ]
  },
  {
   "cell_type": "code",
   "execution_count": null,
   "metadata": {},
   "outputs": [],
   "source": [
    "\n",
    "\n",
    "cross_val = load_obj('cross_val')\n",
    "cross_val\n",
    "\n"
   ]
  },
  {
   "cell_type": "markdown",
   "metadata": {},
   "source": [
    "#### Visualition des communautés"
   ]
  },
  {
   "cell_type": "code",
   "execution_count": 141,
   "metadata": {},
   "outputs": [],
   "source": [
    "community2color = {\n",
    "    0: sns.xkcd_rgb[\"peach\"],\n",
    "    1: sns.xkcd_rgb[\"powder blue\"],\n",
    "    2: sns.xkcd_rgb[\"light pink\"],\n",
    "    3: sns.xkcd_rgb[\"chocolate\"],\n",
    "    4: sns.xkcd_rgb[\"orange\"],\n",
    "    5: sns.xkcd_rgb[\"magenta\"],\n",
    "    6: sns.xkcd_rgb[\"purple\"],\n",
    "    7: sns.xkcd_rgb[\"blue\"],\n",
    "    8: sns.xkcd_rgb[\"deep blue\"],\n",
    "    9: sns.xkcd_rgb[\"sky blue\"],\n",
    "    10: sns.xkcd_rgb[\"olive\"],\n",
    "    11: sns.xkcd_rgb[\"seafoam green\"],\n",
    "    12: sns.xkcd_rgb[\"tan\"],\n",
    "    13: sns.xkcd_rgb[\"mauve\"],\n",
    "    14: sns.xkcd_rgb[\"hot pink\"],\n",
    "    15: sns.xkcd_rgb[\"pale green\"],\n",
    "    16: sns.xkcd_rgb[\"indigo\"],\n",
    "    17: sns.xkcd_rgb[\"lavender\"],\n",
    "    18: sns.xkcd_rgb[\"eggplant\"],\n",
    "    19: sns.xkcd_rgb[\"brick\"],\n",
    "    20: sns.xkcd_rgb[\"light blue\"],\n",
    "}"
   ]
  },
  {
   "cell_type": "code",
   "execution_count": 150,
   "metadata": {},
   "outputs": [],
   "source": [
    "position = nx.spring_layout(g)"
   ]
  },
  {
   "cell_type": "code",
   "execution_count": 144,
   "metadata": {},
   "outputs": [
    {
     "data": {
      "image/png": "[encoded data removed]",
      "text/plain": [
       "<matplotlib.figure.Figure at 0x1fb04a15e80>"
      ]
     },
     "metadata": {},
     "output_type": "display_data"
    }
   ],
   "source": [
    "\n",
    "\n",
    "for community in set(spectral_partition.values()) :\n",
    "    list_nodes = [nodes for nodes in spectral_partition.keys() if spectral_partition[nodes] == community]\n",
    "    nx.draw_networkx_nodes(g, position, list_nodes, node_size=20, node_color=community2color[int(community)])\n",
    "\n",
    "nx.draw_networkx_edges(g, position, alpha=0.5)\n",
    "plt.show()\n",
    "\n"
   ]
  },
  {
   "cell_type": "code",
   "execution_count": null,
   "metadata": {},
   "outputs": [],
   "source": []
  },
  {
   "cell_type": "code",
   "execution_count": 145,
   "metadata": {},
   "outputs": [],
   "source": [
    "for i in spectral_partition.keys():\n",
    "    spectral_partition[i] = str(spectral_partition[i])"
   ]
  },
  {
   "cell_type": "code",
   "execution_count": 146,
   "metadata": {},
   "outputs": [],
   "source": [
    "nx.set_node_attributes(g, spectral_partition, 'spectral')"
   ]
  },
  {
   "cell_type": "code",
   "execution_count": 153,
   "metadata": {},
   "outputs": [],
   "source": [
    "nx.write_graphml(g, 'data/full_graph.graphml')"
   ]
  },
  {
   "cell_type": "code",
   "execution_count": null,
   "metadata": {},
   "outputs": [],
   "source": []
  },
  {
   "cell_type": "code",
   "execution_count": null,
   "metadata": {},
   "outputs": [],
   "source": []
  }
 ],
 "metadata": {
  "kernelspec": {
   "display_name": "Python [conda env:Anacond]",
   "language": "python",
   "name": "conda-env-Anacond-py"
  },
  "language_info": {
   "codemirror_mode": {
    "name": "ipython",
    "version": 3
   },
   "file_extension": ".py",
   "mimetype": "text/x-python",
   "name": "python",
   "nbconvert_exporter": "python",
   "pygments_lexer": "ipython3",
   "version": "3.6.4"
  }
 },
 "nbformat": 4,
 "nbformat_minor": 2
}
