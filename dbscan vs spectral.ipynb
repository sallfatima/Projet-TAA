{
 "cells": [
  {
   "cell_type": "code",
   "execution_count": 47,
   "metadata": {
    "collapsed": true
   },
   "outputs": [],
   "source": [
    "import numpy as np\n",
    "import matplotlib.pyplot as plt\n",
    "import scipy"
   ]
  },
  {
   "cell_type": "code",
   "execution_count": 64,
   "metadata": {},
   "outputs": [
    {
     "data": {
      "image/png": "[encoded data removed]",
      "text/plain": [
       "<matplotlib.figure.Figure at 0x1be3c94f780>"
      ]
     },
     "metadata": {},
     "output_type": "display_data"
    }
   ],
   "source": [
    "data = np.concatenate((\n",
    "np.random.multivariate_normal(np.array([0,0]),np.array(([1, 0], [0, 1])), 100), \n",
    "np.random.multivariate_normal(np.array([3,3]),np.array(([1, 0], [0, 1])), 100), \n",
    "np.random.multivariate_normal(np.array([10,10]),np.array(([1, 0], [0, 1])), 100)))\n",
    "plt.scatter(data[:,0], data[:,1])\n",
    "plt.show()"
   ]
  },
  {
   "cell_type": "code",
   "execution_count": 58,
   "metadata": {},
   "outputs": [
    {
     "data": {
      "text/plain": [
       "array([[ 0.,  1.,  1., ...,  0.,  0.,  0.],\n",
       "       [ 1.,  0.,  1., ...,  0.,  0.,  0.],\n",
       "       [ 1.,  1.,  0., ...,  0.,  0.,  0.],\n",
       "       ..., \n",
       "       [ 0.,  0.,  0., ...,  0.,  1.,  1.],\n",
       "       [ 0.,  0.,  0., ...,  1.,  0.,  0.],\n",
       "       [ 0.,  0.,  0., ...,  1.,  0.,  0.]])"
      ]
     },
     "execution_count": 58,
     "metadata": {},
     "output_type": "execute_result"
    }
   ],
   "source": [
    "def epsilon_neibourhood(mat_dist, epsilon) : \n",
    "    M = mat_dist<epsilon\n",
    "    M = M.astype(float)\n",
    "    m = np.fill_diagonal(M,0)\n",
    "    return(M)\n",
    "def euclidean_dist(population) : \n",
    "    mat = np.zeros((np.shape(population)[0],np.shape(population)[0]))\n",
    "    for i in range (np.shape(population)[0]-1) : \n",
    "        for j in range(i, np.shape(population)[0]) : \n",
    "            mat[i, j] = np.linalg.norm(population[i,]-population[j,])\n",
    "            mat[j, i] = mat[i, j]\n",
    "    return(mat)\n",
    "\n",
    "epsilon_neibourhood(euclidean_dist(data), 2)"
   ]
  },
  {
   "cell_type": "code",
   "execution_count": null,
   "metadata": {
    "collapsed": true
   },
   "outputs": [],
   "source": []
  }
 ],
 "metadata": {
  "kernelspec": {
   "display_name": "Python 3",
   "language": "python",
   "name": "python3"
  },
  "language_info": {
   "codemirror_mode": {
    "name": "ipython",
    "version": 3
   },
   "file_extension": ".py",
   "mimetype": "text/x-python",
   "name": "python",
   "nbconvert_exporter": "python",
   "pygments_lexer": "ipython3",
   "version": "3.6.3"
  }
 },
 "nbformat": 4,
 "nbformat_minor": 2
}
